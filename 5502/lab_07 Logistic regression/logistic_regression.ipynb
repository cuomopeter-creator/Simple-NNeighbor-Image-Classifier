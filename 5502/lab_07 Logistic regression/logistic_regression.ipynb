{
 "cells": [
  {
   "cell_type": "markdown",
   "id": "5f5a59ec-f817-487d-9987-e9b6986fd26e",
   "metadata": {},
   "source": [
    "# Logistic Regression - Churn Analysis on Marketing Clients"
   ]
  },
  {
   "cell_type": "markdown",
   "id": "b6360ef3-6dbc-4aff-aa73-e36bff3d2c85",
   "metadata": {},
   "source": [
    "### Importing required packages"
   ]
  },
  {
   "cell_type": "code",
   "execution_count": 236,
   "id": "1976f44f-8281-4782-9e3f-90be342b53d1",
   "metadata": {
    "tags": []
   },
   "outputs": [],
   "source": [
    "from pyspark.sql import SparkSession\n",
    "spark = SparkSession.builder.appName('logregdoc').getOrCreate()"
   ]
  },
  {
   "cell_type": "code",
   "execution_count": 237,
   "id": "8f599b3e-fb73-4e44-a7df-25b811b9b124",
   "metadata": {
    "tags": []
   },
   "outputs": [],
   "source": [
    "from pyspark.ml.classification import LogisticRegression\n",
    "\n",
    "from pyspark.ml.feature import (VectorAssembler,VectorIndexer,\n",
    "                                OneHotEncoder,StringIndexer)\n",
    "\n",
    "from pyspark.ml.classification import LogisticRegression\n",
    "from pyspark.ml import Pipeline\n",
    "from pyspark.ml.evaluation import BinaryClassificationEvaluator\n",
    "import pandas as pd"
   ]
  },
  {
   "cell_type": "markdown",
   "id": "7caaf523-31bf-4229-92ff-f2cdd2ff7b0b",
   "metadata": {},
   "source": [
    "## Old (training) data set from marketing company"
   ]
  },
  {
   "cell_type": "markdown",
   "id": "23647623-bb71-4b5f-9b62-bf327abfc18a",
   "metadata": {},
   "source": [
    "### Reading Data"
   ]
  },
  {
   "cell_type": "code",
   "execution_count": 238,
   "id": "9f2717de-fd7d-485c-ab9e-45a259e20b4a",
   "metadata": {
    "tags": []
   },
   "outputs": [
    {
     "name": "stdout",
     "output_type": "stream",
     "text": [
      "root\n",
      " |-- Names: string (nullable = true)\n",
      " |-- Age: double (nullable = true)\n",
      " |-- Total_Purchase: double (nullable = true)\n",
      " |-- Account_Manager: integer (nullable = true)\n",
      " |-- Years: double (nullable = true)\n",
      " |-- Num_Sites: double (nullable = true)\n",
      " |-- Onboard_date: timestamp (nullable = true)\n",
      " |-- Location: string (nullable = true)\n",
      " |-- Company: string (nullable = true)\n",
      " |-- Churn: integer (nullable = true)\n",
      "\n"
     ]
    }
   ],
   "source": [
    "data = spark.read.csv('gs://dataproc-staging-us-central1-53720095629-mubhdkfd/notebooks/jupyter/customer_churn.csv',inferSchema=True,header=True)\n",
    "\n",
    "data.printSchema()"
   ]
  },
  {
   "cell_type": "code",
   "execution_count": 239,
   "id": "ffcefcfb-f60e-4289-ac9d-b20039578069",
   "metadata": {
    "tags": []
   },
   "outputs": [
    {
     "data": {
      "text/plain": [
       "['Names',\n",
       " 'Age',\n",
       " 'Total_Purchase',\n",
       " 'Account_Manager',\n",
       " 'Years',\n",
       " 'Num_Sites',\n",
       " 'Onboard_date',\n",
       " 'Location',\n",
       " 'Company',\n",
       " 'Churn']"
      ]
     },
     "execution_count": 239,
     "metadata": {},
     "output_type": "execute_result"
    }
   ],
   "source": [
    "data.columns"
   ]
  },
  {
   "cell_type": "markdown",
   "id": "ba535bcd-2ae0-4bfb-b3e4-d34b2c73b0f1",
   "metadata": {},
   "source": [
    "### Data Exploration"
   ]
  },
  {
   "cell_type": "code",
   "execution_count": 240,
   "id": "dd1e8b17-a5fe-4ea9-8468-180b58888a54",
   "metadata": {
    "tags": []
   },
   "outputs": [
    {
     "name": "stdout",
     "output_type": "stream",
     "text": [
      "+--------------------+\n",
      "|             Company|\n",
      "+--------------------+\n",
      "|          Harvey LLC|\n",
      "|          Wilson PLC|\n",
      "|Miller, Johnson a...|\n",
      "|           Smith Inc|\n",
      "|          Love-Jones|\n",
      "|        Kelly-Warren|\n",
      "|   Reynolds-Sheppard|\n",
      "|          Singh-Cole|\n",
      "|           Lopez PLC|\n",
      "|       Reed-Martinez|\n",
      "|Briggs, Lamb and ...|\n",
      "|    Figueroa-Maynard|\n",
      "|     Abbott-Thompson|\n",
      "|Smith, Kim and Ma...|\n",
      "|Snyder, Lee and M...|\n",
      "|      Sanders-Pierce|\n",
      "|Andrews, Adams an...|\n",
      "|Morgan, Phillips ...|\n",
      "|      Villanueva LLC|\n",
      "|Berry, Orr and Ca...|\n",
      "+--------------------+\n",
      "only showing top 20 rows\n",
      "\n"
     ]
    }
   ],
   "source": [
    "data.select('Company').show()"
   ]
  },
  {
   "cell_type": "code",
   "execution_count": 241,
   "id": "11599956-285c-4d6f-9523-f723d4729057",
   "metadata": {
    "tags": []
   },
   "outputs": [
    {
     "data": {
      "text/plain": [
       "873"
      ]
     },
     "execution_count": 241,
     "metadata": {},
     "output_type": "execute_result"
    }
   ],
   "source": [
    "#potential categorical variable to see if there are different departments at the same companies\n",
    "data.select('Company').distinct().count()"
   ]
  },
  {
   "cell_type": "code",
   "execution_count": 242,
   "id": "288ff6f7-0049-4b7a-9a8f-4f4a70409193",
   "metadata": {
    "tags": []
   },
   "outputs": [
    {
     "data": {
      "text/plain": [
       "900"
      ]
     },
     "execution_count": 242,
     "metadata": {},
     "output_type": "execute_result"
    }
   ],
   "source": [
    "#most companies are unique so likely not a helpful column\n",
    "data.select('Company').count()"
   ]
  },
  {
   "cell_type": "code",
   "execution_count": 243,
   "id": "7031a348-8c43-45f3-a9a9-34a44d73d0e1",
   "metadata": {
    "tags": []
   },
   "outputs": [
    {
     "name": "stdout",
     "output_type": "stream",
     "text": [
      "+---------+\n",
      "|Num_Sites|\n",
      "+---------+\n",
      "|      8.0|\n",
      "|     11.0|\n",
      "|     12.0|\n",
      "|     10.0|\n",
      "|      9.0|\n",
      "|      8.0|\n",
      "|     11.0|\n",
      "|      9.0|\n",
      "|     11.0|\n",
      "|     11.0|\n",
      "|      8.0|\n",
      "|     11.0|\n",
      "|     11.0|\n",
      "|     13.0|\n",
      "|     11.0|\n",
      "|     12.0|\n",
      "|     11.0|\n",
      "|     12.0|\n",
      "|      8.0|\n",
      "|      8.0|\n",
      "+---------+\n",
      "only showing top 20 rows\n",
      "\n"
     ]
    }
   ],
   "source": [
    "data.select('Num_Sites').show()"
   ]
  },
  {
   "cell_type": "code",
   "execution_count": 244,
   "id": "8f65f868-68c2-4370-a759-5fe773091dd6",
   "metadata": {
    "tags": []
   },
   "outputs": [
    {
     "name": "stdout",
     "output_type": "stream",
     "text": [
      "+-------------------+----+--------------+---------------+-----+---------+-------------------+--------------------+--------------------+-----+\n",
      "|              Names| Age|Total_Purchase|Account_Manager|Years|Num_Sites|       Onboard_date|            Location|             Company|Churn|\n",
      "+-------------------+----+--------------+---------------+-----+---------+-------------------+--------------------+--------------------+-----+\n",
      "|   Cameron Williams|42.0|       11066.8|              0| 7.22|      8.0|2013-08-30 07:00:40|10265 Elizabeth M...|          Harvey LLC|    1|\n",
      "|      Kevin Mueller|41.0|      11916.22|              0|  6.5|     11.0|2013-08-13 00:38:46|6157 Frank Garden...|          Wilson PLC|    1|\n",
      "|        Eric Lozano|38.0|      12884.75|              0| 6.67|     12.0|2016-06-29 06:20:07|1331 Keith Court ...|Miller, Johnson a...|    1|\n",
      "|      Phillip White|42.0|       8010.76|              0| 6.71|     10.0|2014-04-22 12:43:12|13120 Daniel Moun...|           Smith Inc|    1|\n",
      "|     Cynthia Norton|37.0|       9191.58|              0| 5.56|      9.0|2016-01-19 15:31:15|765 Tricia Row Ka...|          Love-Jones|    1|\n",
      "|   Jessica Williams|48.0|      10356.02|              0| 5.12|      8.0|2009-03-03 23:13:37|6187 Olson Mounta...|        Kelly-Warren|    1|\n",
      "|        Eric Butler|44.0|      11331.58|              1| 5.23|     11.0|2016-12-05 03:35:43|4846 Savannah Roa...|   Reynolds-Sheppard|    1|\n",
      "|      Zachary Walsh|32.0|       9885.12|              1| 6.92|      9.0|2006-03-09 14:50:20|25271 Roy Express...|          Singh-Cole|    1|\n",
      "|        Ashlee Carr|43.0|       14062.6|              1| 5.46|     11.0|2011-09-29 05:47:23|3725 Caroline Str...|           Lopez PLC|    1|\n",
      "|     Jennifer Lynch|40.0|       8066.94|              1| 7.11|     11.0|2006-03-28 15:42:45|363 Sandra Lodge ...|       Reed-Martinez|    1|\n",
      "|       Paula Harris|30.0|      11575.37|              1| 5.22|      8.0|2016-11-13 13:13:01|Unit 8120 Box 916...|Briggs, Lamb and ...|    1|\n",
      "|     Bruce Phillips|45.0|       8771.02|              1| 6.64|     11.0|2015-05-28 12:14:03|Unit 1895 Box 094...|    Figueroa-Maynard|    1|\n",
      "|       Craig Garner|45.0|       8988.67|              1| 4.84|     11.0|2011-02-16 08:10:47|897 Kelley Overpa...|     Abbott-Thompson|    1|\n",
      "|       Nicole Olson|40.0|       8283.32|              1|  5.1|     13.0|2012-11-22 05:35:03|11488 Weaver Cape...|Smith, Kim and Ma...|    1|\n",
      "|     Harold Griffin|41.0|       6569.87|              1|  4.3|     11.0|2015-03-28 02:13:44|1774 Peter Row Ap...|Snyder, Lee and M...|    1|\n",
      "|       James Wright|38.0|      10494.82|              1| 6.81|     12.0|2015-07-22 08:38:40|45408 David Path ...|      Sanders-Pierce|    1|\n",
      "|      Doris Wilkins|45.0|       8213.41|              1| 7.35|     11.0|2006-09-03 06:13:55|28216 Wright Moun...|Andrews, Adams an...|    1|\n",
      "|Katherine Carpenter|43.0|      11226.88|              0| 8.08|     12.0|2006-10-22 04:42:38|Unit 4948 Box 481...|Morgan, Phillips ...|    1|\n",
      "|     Lindsay Martin|53.0|       5515.09|              0| 6.85|      8.0|2015-10-07 00:27:10|69203 Crosby Divi...|      Villanueva LLC|    1|\n",
      "|        Kathy Curry|46.0|        8046.4|              1| 5.69|      8.0|2014-11-06 23:47:14|9569 Caldwell Cre...|Berry, Orr and Ca...|    1|\n",
      "+-------------------+----+--------------+---------------+-----+---------+-------------------+--------------------+--------------------+-----+\n",
      "only showing top 20 rows\n",
      "\n"
     ]
    }
   ],
   "source": [
    "data.show()"
   ]
  },
  {
   "cell_type": "markdown",
   "id": "4e5a29d0-539e-4d54-a578-a10aa721b3b9",
   "metadata": {},
   "source": [
    "### Final column selection"
   ]
  },
  {
   "cell_type": "code",
   "execution_count": 245,
   "id": "baf3c609-c3c0-43f3-9e41-e8b9826cac24",
   "metadata": {
    "tags": []
   },
   "outputs": [],
   "source": [
    "my_cols = data.select([\n",
    " 'Age',\n",
    " 'Total_Purchase',\n",
    " 'Account_Manager',\n",
    " 'Years',\n",
    " 'Num_Sites',\n",
    " 'Churn'])"
   ]
  },
  {
   "cell_type": "code",
   "execution_count": 246,
   "id": "70cfce8e-5590-475f-9fbe-7707639f13a1",
   "metadata": {
    "tags": []
   },
   "outputs": [
    {
     "data": {
      "text/plain": [
       "900"
      ]
     },
     "execution_count": 246,
     "metadata": {},
     "output_type": "execute_result"
    }
   ],
   "source": [
    "#checking row count prior to dropping\n",
    "my_cols.count()"
   ]
  },
  {
   "cell_type": "code",
   "execution_count": 247,
   "id": "83e86eee-a7e3-48f2-ae35-d3f27fab49e2",
   "metadata": {
    "tags": []
   },
   "outputs": [
    {
     "data": {
      "text/plain": [
       "900"
      ]
     },
     "execution_count": 247,
     "metadata": {},
     "output_type": "execute_result"
    }
   ],
   "source": [
    "#dropping rows\n",
    "my_final_data = my_cols.na.drop()\n",
    "my_final_data.count()"
   ]
  },
  {
   "cell_type": "markdown",
   "id": "867ed996-f008-4694-8af2-9a724f296db6",
   "metadata": {},
   "source": [
    "### Preprocessing "
   ]
  },
  {
   "cell_type": "code",
   "execution_count": 248,
   "id": "674a4b85-4342-43bc-91d9-ea5daba9986d",
   "metadata": {
    "tags": []
   },
   "outputs": [],
   "source": [
    "#list of independent variables\n",
    "col_names = [\n",
    " 'Age',\n",
    " 'Total_Purchase',\n",
    " 'Account_Manager',\n",
    " 'Years',\n",
    " 'Num_Sites'\n",
    "]"
   ]
  },
  {
   "cell_type": "code",
   "execution_count": 249,
   "id": "30937222-0be8-48ac-823f-005f69dd6164",
   "metadata": {
    "tags": []
   },
   "outputs": [],
   "source": [
    "assembler = VectorAssembler(\n",
    "    inputCols=col_names\n",
    "    ,outputCol='features'\n",
    ")"
   ]
  },
  {
   "cell_type": "markdown",
   "id": "adae88f0-befd-44f6-89ea-cd4687e24174",
   "metadata": {},
   "source": [
    "### Model build"
   ]
  },
  {
   "cell_type": "code",
   "execution_count": 268,
   "id": "9ecfd990-4abf-4dbf-93dc-8bb41e11c9c1",
   "metadata": {
    "tags": []
   },
   "outputs": [],
   "source": [
    "log_reg_marketing = LogisticRegression(featuresCol='features',labelCol='Churn')"
   ]
  },
  {
   "cell_type": "code",
   "execution_count": 269,
   "id": "cceaba37-4b16-456c-bab9-89f0c55ef28f",
   "metadata": {
    "tags": []
   },
   "outputs": [],
   "source": [
    "pipeline = Pipeline(stages=[assembler,log_reg_marketing])"
   ]
  },
  {
   "cell_type": "code",
   "execution_count": 270,
   "id": "c56ae7e7-869e-4c1d-97d1-27929146986f",
   "metadata": {},
   "outputs": [],
   "source": [
    "#Using a high train split % becasue we have another data set\n",
    "train_marketing_data, test_marketing_data = my_final_data.randomSplit([0.8,.2])"
   ]
  },
  {
   "cell_type": "code",
   "execution_count": 271,
   "id": "d956fd34-a857-48cf-9df3-45ab4c15ce00",
   "metadata": {
    "tags": []
   },
   "outputs": [],
   "source": [
    "#fitting on traingingd data\n",
    "fit_model = pipeline.fit(train_marketing_data)"
   ]
  },
  {
   "cell_type": "code",
   "execution_count": 272,
   "id": "3b865a53-4a24-408c-8733-bd67e1a7c772",
   "metadata": {
    "tags": []
   },
   "outputs": [
    {
     "data": {
      "text/html": [
       "<div>\n",
       "<style scoped>\n",
       "    .dataframe tbody tr th:only-of-type {\n",
       "        vertical-align: middle;\n",
       "    }\n",
       "\n",
       "    .dataframe tbody tr th {\n",
       "        vertical-align: top;\n",
       "    }\n",
       "\n",
       "    .dataframe thead th {\n",
       "        text-align: right;\n",
       "    }\n",
       "</style>\n",
       "<table border=\"1\" class=\"dataframe\">\n",
       "  <thead>\n",
       "    <tr style=\"text-align: right;\">\n",
       "      <th></th>\n",
       "      <th>Variables</th>\n",
       "      <th>Coefficients</th>\n",
       "    </tr>\n",
       "  </thead>\n",
       "  <tbody>\n",
       "    <tr>\n",
       "      <th>0</th>\n",
       "      <td>Age</td>\n",
       "      <td>1.066483</td>\n",
       "    </tr>\n",
       "    <tr>\n",
       "      <th>1</th>\n",
       "      <td>Total_Purchase</td>\n",
       "      <td>1.000083</td>\n",
       "    </tr>\n",
       "    <tr>\n",
       "      <th>2</th>\n",
       "      <td>Account_Manager</td>\n",
       "      <td>1.787505</td>\n",
       "    </tr>\n",
       "    <tr>\n",
       "      <th>3</th>\n",
       "      <td>Years</td>\n",
       "      <td>1.749076</td>\n",
       "    </tr>\n",
       "    <tr>\n",
       "      <th>4</th>\n",
       "      <td>Num_Sites</td>\n",
       "      <td>3.276756</td>\n",
       "    </tr>\n",
       "  </tbody>\n",
       "</table>\n",
       "</div>"
      ],
      "text/plain": [
       "         Variables  Coefficients\n",
       "0              Age      1.066483\n",
       "1   Total_Purchase      1.000083\n",
       "2  Account_Manager      1.787505\n",
       "3            Years      1.749076\n",
       "4        Num_Sites      3.276756"
      ]
     },
     "execution_count": 272,
     "metadata": {},
     "output_type": "execute_result"
    }
   ],
   "source": [
    "import numpy as np\n",
    "#examining coefficients by creating a pandas dataframe to view stages data\n",
    "df_coeff = pd.DataFrame(columns=['Variables', 'Coefficients'])\n",
    "stages = fit_model.stages[-1]\n",
    "df_coeff.Variables = col_names\n",
    "df_coeff.Coefficients = np.exp(stages.coefficients)\n",
    "\n",
    "\n",
    "## number of sites seems to be the most likely predictor of churn\n",
    "df_coeff"
   ]
  },
  {
   "cell_type": "code",
   "execution_count": 273,
   "id": "4c247dd6-9a00-4883-b1d1-92942ac7a250",
   "metadata": {
    "tags": []
   },
   "outputs": [],
   "source": [
    "#predicting on test data\n",
    "results = fit_model.transform(test_marketing_data)"
   ]
  },
  {
   "cell_type": "code",
   "execution_count": 274,
   "id": "45ff4d62-6b6a-4281-99d4-30367bd33adc",
   "metadata": {
    "tags": []
   },
   "outputs": [],
   "source": [
    "my_eval = BinaryClassificationEvaluator(rawPredictionCol='prediction',\n",
    "                                       labelCol='Churn')"
   ]
  },
  {
   "cell_type": "code",
   "execution_count": 275,
   "id": "d972d7da-eb04-4e94-88df-bde199cbc097",
   "metadata": {
    "tags": []
   },
   "outputs": [
    {
     "name": "stdout",
     "output_type": "stream",
     "text": [
      "+-----+----------+\n",
      "|Churn|prediction|\n",
      "+-----+----------+\n",
      "|    0|       0.0|\n",
      "|    0|       0.0|\n",
      "|    0|       0.0|\n",
      "|    0|       0.0|\n",
      "|    0|       0.0|\n",
      "|    1|       0.0|\n",
      "|    0|       0.0|\n",
      "|    0|       0.0|\n",
      "|    0|       0.0|\n",
      "|    0|       0.0|\n",
      "|    0|       0.0|\n",
      "|    0|       0.0|\n",
      "|    1|       0.0|\n",
      "|    1|       0.0|\n",
      "|    0|       0.0|\n",
      "|    0|       0.0|\n",
      "|    0|       0.0|\n",
      "|    0|       0.0|\n",
      "|    0|       0.0|\n",
      "|    0|       0.0|\n",
      "+-----+----------+\n",
      "only showing top 20 rows\n",
      "\n"
     ]
    }
   ],
   "source": [
    "results.select('Churn','prediction').show()"
   ]
  },
  {
   "cell_type": "code",
   "execution_count": 276,
   "id": "677f2e10-6a0c-4d88-ae89-4b234631edce",
   "metadata": {
    "tags": []
   },
   "outputs": [
    {
     "data": {
      "text/plain": [
       "0.7268315018315018"
      ]
     },
     "execution_count": 276,
     "metadata": {},
     "output_type": "execute_result"
    }
   ],
   "source": [
    "AUC = my_eval.evaluate(results)\n",
    "AUC"
   ]
  },
  {
   "cell_type": "markdown",
   "id": "51698aeb-f520-46ba-9a48-d9c9db4e0d2e",
   "metadata": {},
   "source": [
    "## New (Test) data set from marketing company"
   ]
  },
  {
   "cell_type": "code",
   "execution_count": 283,
   "id": "43086164-c53a-431f-b5e3-0aeb5e93cbb2",
   "metadata": {
    "tags": []
   },
   "outputs": [
    {
     "name": "stdout",
     "output_type": "stream",
     "text": [
      "+----+--------------+---------------+-----+---------+--------------------+--------------------+--------------------+----------+\n",
      "| Age|Total_Purchase|Account_Manager|Years|Num_Sites|            features|       rawPrediction|         probability|prediction|\n",
      "+----+--------------+---------------+-----+---------+--------------------+--------------------+--------------------+----------+\n",
      "|37.0|       9935.53|              1| 7.71|      8.0|[37.0,9935.53,1.0...|[2.20948501564485...|[0.90109804070902...|       0.0|\n",
      "|23.0|       7526.94|              1| 9.28|     15.0|[23.0,7526.94,1.0...|[-5.8756903966012...|[0.00279899929473...|       1.0|\n",
      "|65.0|         100.0|              1|  1.0|     15.0|[65.0,100.0,1.0,1...|[-3.3348524946097...|[0.03439470601901...|       1.0|\n",
      "|32.0|        6487.5|              0|  9.4|     14.0|[32.0,6487.5,0.0,...|[-4.6683336686112...|[0.00930058687478...|       1.0|\n",
      "|32.0|      13147.71|              1| 10.0|      8.0|[32.0,13147.71,1....|[0.98502554655003...|[0.72810425570659...|       0.0|\n",
      "|22.0|       8445.26|              1| 3.46|     14.0|[22.0,8445.26,1.0...|[-1.4466218304239...|[0.19052201412552...|       1.0|\n",
      "+----+--------------+---------------+-----+---------+--------------------+--------------------+--------------------+----------+\n",
      "\n"
     ]
    }
   ],
   "source": [
    "#retrieving data\n",
    "data_new = spark.read.csv('gs://dataproc-staging-us-central1-53720095629-mubhdkfd/notebooks/jupyter/new_customers.csv',inferSchema=True,header=True)\n",
    "\n",
    "#selecting data\n",
    "my_cols_new = data_new.select([\n",
    " 'Age',\n",
    " 'Total_Purchase',\n",
    " 'Account_Manager',\n",
    " 'Years',\n",
    " 'Num_Sites'\n",
    "])\n",
    "\n",
    "\n",
    "#dropping null rows\n",
    "my_final_data_new = my_cols_new.na.drop()\n",
    "\n",
    "\n",
    "\n",
    "##### Preprocessing #####\n",
    "#identifying independent variables\n",
    "assembler = VectorAssembler(\n",
    "    inputCols=col_names\n",
    "    ,outputCol='features'\n",
    ")\n",
    "\n",
    "#identifying dependent variable \n",
    "log_reg_marketing = LogisticRegression(featuresCol='features',labelCol='Churn')\n",
    "\n",
    "##### Building Model #####\n",
    "pipeline = Pipeline(stages=[assembler,log_reg_marketing])\n",
    "\n",
    "##### Prediciting #####\n",
    "results = fit_model.transform(my_final_data_new)\n",
    "\n",
    "results.show()"
   ]
  }
 ],
 "metadata": {
  "kernelspec": {
   "display_name": "Python 3 (ipykernel)",
   "language": "python",
   "name": "python3"
  },
  "language_info": {
   "codemirror_mode": {
    "name": "ipython",
    "version": 3
   },
   "file_extension": ".py",
   "mimetype": "text/x-python",
   "name": "python",
   "nbconvert_exporter": "python",
   "pygments_lexer": "ipython3",
   "version": "3.13.9"
  }
 },
 "nbformat": 4,
 "nbformat_minor": 5
}
